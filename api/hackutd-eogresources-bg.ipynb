{
 "cells": [
  {
   "cell_type": "code",
   "execution_count": null,
   "metadata": {},
   "outputs": [],
   "source": [
    "import websocket\n",
    "import websockets\n",
    "from websocket import create_connection\n",
    "import json\n",
    "from scipy.optimize import minimize\n",
    "from scipy.optimize import basinhopping\n",
    "from random import randrange\n",
    "import asyncio"
   ]
  },
  {
   "cell_type": "markdown",
   "metadata": {},
   "source": [
    "### Initialize variables"
   ]
  },
  {
   "cell_type": "code",
   "execution_count": null,
   "metadata": {},
   "outputs": [],
   "source": [
    "current_state_msg = None\n",
    "optimization_result_msg = None\n",
    "sol = None\n",
    "current_pit_volume = 0\n",
    "pit_max_capacity = 250000\n",
    "lower_bound_percentage_on_flow_rates = 0.80\n",
    "count = 0"
   ]
  },
  {
   "cell_type": "markdown",
   "metadata": {},
   "source": [
    "### Handle message from the server and take action according to the msg type"
   ]
  },
  {
   "cell_type": "code",
   "execution_count": null,
   "metadata": {},
   "outputs": [],
   "source": [
    "def handle_message(message):\n",
    "    global current_pit_volume\n",
    "    global current_state_msg\n",
    "    global optimization_result_msg\n",
    "    global count\n",
    "    try:\n",
    "        message = json.loads(message)\n",
    "        # print('handle_message')\n",
    "        if message['type'] == 'CURRENT_STATE':\n",
    "            # print('CURRENT_STATE msg received')\n",
    "            current_state_msg = message\n",
    "            print('Flow rate in: ' + str(current_state_msg['flowRateIn']) + ' + ' + str(current_pit_volume))\n",
    "            current_state_msg['flowRateIn'] += current_pit_volume\n",
    "            calc_optimum_values()\n",
    "        elif message['type'] == 'OPTIMATION_RESULT':\n",
    "            print('OPTIMATION_RESULT msg received')\n",
    "            print(message)\n",
    "            optimization_result_msg = message\n",
    "            current_pit_volume = optimization_result_msg['currentPitVolume']\n",
    "            \n",
    "            f = open(str(count) + \".txt\", \"w\")\n",
    "            optimization_result_msg['maximized_output'] = sol.fun * -1\n",
    "\n",
    "            for key, value in optimization_result_msg.items():\n",
    "                if type(value) == int or type(value) == float:\n",
    "                    optimization_result_msg[key] = round(value, 2)\n",
    "\n",
    "\n",
    "            f.write(json.dumps(optimization_result_msg))\n",
    "            count += 1\n",
    "            \n",
    "    except Exception as e:\n",
    "        print('Exception: ' + str(e) + ' ' + str(message))\n",
    "        \n",
    "\n"
   ]
  },
  {
   "cell_type": "markdown",
   "metadata": {},
   "source": [
    "### Objective func and constraints for basinhopping algorithm"
   ]
  },
  {
   "cell_type": "code",
   "execution_count": null,
   "metadata": {},
   "outputs": [],
   "source": [
    "# Maximizing this objective function\n",
    "def get_dollars(flow_rates):\n",
    "\n",
    "    final_flow_rates = []\n",
    "\n",
    "    for ind in range(len(current_state_msg['operations'])):\n",
    "        \n",
    "        i = 0\n",
    "        while True:\n",
    "            curr_value = current_state_msg['operations'][ind]['revenueStructure'][i]\n",
    "            i += 1\n",
    "            # print(str(curr_value) + ' ' + str(flow_rates[ind]) + ' ' + str(i))\n",
    "            if flow_rates[ind] <= curr_value['flowPerDay'] or i >= len(current_state_msg['operations'][ind]['revenueStructure']):\n",
    "                break\n",
    "        \n",
    "        if i == 1:\n",
    "            final_flow_rates.append(curr_value['dollarsPerDay'])\n",
    "        else:\n",
    "            # Linear interpolation between two points\n",
    "            # y2, y1, x2, x1 = curr_value['dollarsPerDay'], current_state_msg['operations'][ind]['revenueStructure'][i - 2]['dollarsPerDay'], curr_value['flowPerDay'], current_state_msg['operations'][ind]['revenueStructure'][i - 2]['flowPerDay']\n",
    "            y2 = curr_value['dollarsPerDay']\n",
    "            y1 = current_state_msg['operations'][ind]['revenueStructure'][i - 2]['dollarsPerDay']\n",
    "            x2 = curr_value['flowPerDay']\n",
    "            x1 = current_state_msg['operations'][ind]['revenueStructure'][i - 2]['flowPerDay']\n",
    "            m = (y2 - y1) / (x2 - x1)\n",
    "            c = y1 - m * x1\n",
    "            final_flow_rates.append(m * flow_rates[ind] + c)\n",
    "    \n",
    "    # Return with -ve sign to convert maximization to minimization problem.\n",
    "    return -1 * sum(final_flow_rates)\n",
    "\n",
    "# Constraint of sum of all flow Rate To Operations to be less than equal to flow rate in\n",
    "def constraint_func(flow_rates):\n",
    "    return current_state_msg['flowRateIn'] - sum(flow_rates)\n",
    "\n",
    "# Constraint of sum of all flow Rate To Operations to be greater than equal to lower_bound_percentage_on_flow_rates fraction of flow rate in\n",
    "def constraint_func2(flow_rates):\n",
    "    return sum(flow_rates) - lower_bound_percentage_on_flow_rates * current_state_msg['flowRateIn']\n"
   ]
  },
  {
   "cell_type": "markdown",
   "metadata": {},
   "source": [
    "### calc_optimum_values optimizes flow rates to maximize revenue"
   ]
  },
  {
   "cell_type": "code",
   "execution_count": null,
   "metadata": {},
   "outputs": [],
   "source": [
    "def calc_optimum_values():\n",
    "    global sol\n",
    "    #print('calc_optimum_values')\n",
    "\n",
    "    bnds = tuple((0, 200000) for i in range(len(current_state_msg['operations'])))\n",
    "    x0 = [randrange(20000) for i in range(len(current_state_msg['operations']))]\n",
    "    con1 = {'type': 'ineq', 'fun': constraint_func}\n",
    "    con2 = {'type': 'ineq', 'fun': constraint_func2}\n",
    "    # cons = [con1]\n",
    "    cons = [con1, con2]\n",
    "    #print(\"before basinhopping\")\n",
    "\n",
    "    # Ignore minimize\n",
    "    # sol = minimize(get_dollars, x0, method='SLSQP', bounds = bnds, constraints = cons, options={'maxiter': 200})\n",
    "\n",
    "    # Executing basinhopping algorithm\n",
    "    sol = basinhopping(get_dollars, x0, niter=100, minimizer_kwargs = {\"bounds\": bnds, \"constraints\":cons, \"method\":'SLSQP'})\n",
    "    #print(\"after basinhopping\")\n",
    "\n",
    "    print('Maximized revenue: $' + str(sol.fun * -1))\n",
    "    print('Water not used: ' + str(current_state_msg['flowRateIn'] - sum(sol.x)) + ' bbls')\n",
    "\n",
    "\n",
    "    # Flow rate to operations data to be sent to server\n",
    "    data_to_send = []\n",
    "\n",
    "    for ind in range(len(current_state_msg['operations'])):\n",
    "        data_to_send.append({'operationId': current_state_msg['operations'][ind]['id'], 'flowRate': sol.x[ind]})\n",
    "\n",
    "    print('Send to server: ' + json.dumps(data_to_send))\n",
    "    ws.send(json.dumps(data_to_send))\n",
    "    "
   ]
  },
  {
   "cell_type": "markdown",
   "metadata": {},
   "source": [
    "### Listeners for websocket connection to server"
   ]
  },
  {
   "cell_type": "code",
   "execution_count": null,
   "metadata": {},
   "outputs": [],
   "source": [
    "def on_message(ws, message):\n",
    "    #print(\"Received message\")\n",
    "    #print(message)\n",
    "    handle_message(message)\n",
    "\n",
    "def on_error(ws, error):\n",
    "    print(error)\n",
    "\n",
    "def on_close(ws, close_status_code, close_msg):\n",
    "    print(\"### closed ###\")\n",
    "\n",
    "def on_open(ws):\n",
    "    print(\"connection opened\")\n",
    "    ws.send(json.dumps({'setPitCapacity': pit_max_capacity}))"
   ]
  },
  {
   "cell_type": "markdown",
   "metadata": {},
   "source": [
    "### Initialize and run the websocket"
   ]
  },
  {
   "cell_type": "code",
   "execution_count": null,
   "metadata": {},
   "outputs": [],
   "source": [
    "websocket.enableTrace(False)\n",
    "ws = websocket.WebSocketApp(\"wss://2021-utd-hackathon.azurewebsites.net\",\n",
    "                            on_open=on_open,\n",
    "                            on_message=on_message,\n",
    "                            on_error=on_error,\n",
    "                            on_close=on_close)\n",
    "\n",
    "ws.run_forever()"
   ]
  },
  {
   "cell_type": "code",
   "execution_count": null,
   "metadata": {},
   "outputs": [],
   "source": []
  }
 ],
 "metadata": {
  "interpreter": {
   "hash": "5a331dbd80a6d482b3c20c407f2c5c9fe53fca19eed2bb78ce06e5b2179049b0"
  },
  "kernelspec": {
   "display_name": "Python 3.9.7 64-bit ('base': conda)",
   "language": "python",
   "name": "python3"
  },
  "language_info": {
   "codemirror_mode": {
    "name": "ipython",
    "version": 3
   },
   "file_extension": ".py",
   "mimetype": "text/x-python",
   "name": "python",
   "nbconvert_exporter": "python",
   "pygments_lexer": "ipython3",
   "version": "3.9.7"
  },
  "orig_nbformat": 4
 },
 "nbformat": 4,
 "nbformat_minor": 2
}
